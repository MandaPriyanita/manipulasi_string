{
  "nbformat": 4,
  "nbformat_minor": 0,
  "metadata": {
    "colab": {
      "provenance": [],
      "include_colab_link": true
    },
    "kernelspec": {
      "name": "python3",
      "display_name": "Python 3"
    },
    "language_info": {
      "name": "python"
    }
  },
  "cells": [
    {
      "cell_type": "markdown",
      "metadata": {
        "id": "view-in-github",
        "colab_type": "text"
      },
      "source": [
        "<a href=\"https://colab.research.google.com/github/MandaPriyanita/manipulasi_string/blob/main/mandaTugas_Manipulasi_String.ipynb\" target=\"_parent\"><img src=\"https://colab.research.google.com/assets/colab-badge.svg\" alt=\"Open In Colab\"/></a>"
      ]
    },
    {
      "cell_type": "markdown",
      "source": [
        "buatlah class Catatan dengan atribut\n",
        "1. nama (string)\n",
        "2. nomor_absen (intejer)\n",
        "3. catatan (string)\n",
        "\n",
        "buat fungsi untuk\n",
        "1. menggabungkan semua atribut diatas menjadi sebuah kalimat menggunakan pertambahan string\n",
        "2. menampilkan kalimat gabungan semua atribut\n",
        "3. mencari kata dalam sebuah kalimat menggunakan fungsi in\n",
        "4. menggandakan jumlah kalimat menggunakan tanda perkalian *\n",
        "5. menghitung jumlah huruf dalam kalimat menggunakan len\n",
        "6. mencari kata pertama dalam kalimat menggunakan startswith"
      ],
      "metadata": {
        "id": "AIkziXKoHrlK"
      }
    },
    {
      "cell_type": "code",
      "source": [
        "#desain class\n",
        "class Catatan:\n",
        "  def __init__(self,nama, noabsen, catatan):\n",
        "    self.nama = nama\n",
        "    self.noabsen = noabsen\n",
        "    self.catatan = catatan\n",
        "\n",
        "  def gabung(self):\n",
        "    print(f'Saya {self.nama} nomor absen {self.noabsen}, {self.catatan}')\n",
        "\n",
        "  def cari(self, catat):\n",
        "    self.catat = catat\n",
        "    print(catat in self.catatan)\n",
        "\n",
        "  def kali(self):\n",
        "    print(self.noabsen * 200)\n",
        "\n",
        "  def hitunghuruf(self):\n",
        "    print(len(self.nama))\n",
        "\n",
        "  def katapertama(self):\n",
        "    print(self.nama.startswith('s'))\n",
        "\n"
      ],
      "metadata": {
        "id": "_YQuLGp_IA93"
      },
      "execution_count": 1,
      "outputs": []
    },
    {
      "cell_type": "code",
      "source": [
        "#main program\n",
        "\n",
        "catat = Catatan(\"manda priya nita\", '5', \"saya tinggal di tumpang\")\n",
        "\n",
        "catat.gabung()\n",
        "catat.cari('cara')\n",
        "catat.kali()\n",
        "catat.hitunghuruf()\n",
        "catat.katapertama()\n",
        ""
      ],
      "metadata": {
        "id": "QdIPVcTJID9Q",
        "colab": {
          "base_uri": "https://localhost:8080/"
        },
        "outputId": "fa40f269-c559-4b7a-abe9-b764f87fbeee"
      },
      "execution_count": 2,
      "outputs": [
        {
          "output_type": "stream",
          "name": "stdout",
          "text": [
            "Saya manda priya nita nomor absen 5, saya tinggal di tumpang\n",
            "False\n",
            "55555555555555555555555555555555555555555555555555555555555555555555555555555555555555555555555555555555555555555555555555555555555555555555555555555555555555555555555555555555555555555555555555555555\n",
            "16\n",
            "False\n"
          ]
        }
      ]
    }
  ]
}